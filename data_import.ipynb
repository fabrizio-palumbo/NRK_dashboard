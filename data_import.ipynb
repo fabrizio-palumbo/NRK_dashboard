{
 "cells": [
  {
   "cell_type": "code",
   "execution_count": 1,
   "metadata": {},
   "outputs": [
    {
     "name": "stdout",
     "output_type": "stream",
     "text": [
      "0             Halden\n",
      "1             Halden\n",
      "2               Moss\n",
      "3               Moss\n",
      "4               Moss\n",
      "           ...      \n",
      "732    Deltekommuner\n",
      "733    Deltekommuner\n",
      "734    Deltekommuner\n",
      "735    Deltekommuner\n",
      "736    Deltekommuner\n",
      "Name: GRUPPETEKST, Length: 737, dtype: object\n"
     ]
    },
    {
     "name": "stderr",
     "output_type": "stream",
     "text": [
      "/opt/anaconda3/envs/nrk/lib/python3.7/site-packages/ipykernel_launcher.py:46: FutureWarning: The default value of regex will change from True to False in a future version.\n"
     ]
    }
   ],
   "source": [
    "folder= r\"/Users/fabrizio/Documents/Datasett AI\"\n",
    "import regex as re\n",
    "import pandas as pd \n",
    "import numpy as np\n",
    "import matplotlib.pyplot as plt\n",
    "import matplotlib as matplt\n",
    "import json as js\n",
    "from matplotlib.colors import LinearSegmentedColormap\n",
    "from sklearn.manifold import TSNE\n",
    "from os import walk\n",
    "import collections\n",
    "import string\n",
    "from re import sub\n",
    "from sklearn.decomposition import PCA\n",
    "from itertools import groupby, chain\n",
    "from matplotlib import cm\n",
    "import nltk\n",
    "import scipy as sp\n",
    "from os import walk\n",
    "import pickle\n",
    "import tarfile\n",
    "from collections import Counter\n",
    "import datetime\n",
    "import seaborn as sns\n",
    "from dateutil import parser\n",
    "from numpy import median\n",
    "from scipy.stats import zscore\n",
    "def import_data_excell (filenames,Type=str,Header=0, col_index=0):\n",
    "    dataSheet=[];\n",
    "    fileExcel= pd.ExcelFile(filenames);\n",
    "    for sheet in fileExcel.sheet_names:\n",
    "        if col_index==0:\n",
    "            dataSheet.append(fileExcel.parse(sheet ,dtype=Type,header=Header))\n",
    "        else:\n",
    "            dataSheet.append(fileExcel.parse(sheet ,dtype=Type,header=Header,index_col=col_index))\n",
    "    del sheet\n",
    "    return dataSheet\n",
    "def importDataset(filename,head):\n",
    "    dataRaw=pd.read_csv(filename, \";\",header=head, encoding= 'ISO-8859-1')\n",
    "    return dataRaw \n",
    "\n",
    "not_merged=import_data_excell(folder+r\"/Municipalities that have not been merged in 5 years.xlsx\",Type=str)[0]\n",
    "# not_merged[['komnr','komname']]=not_merged[\"region\"].str.split(\" \", n = 1, expand = True)  \n",
    "not_merged=not_merged['Kommunenr']\n",
    "kode=import_data_excell(folder+r\"/Koder Kommuner 1994-.xlsx\")[0]\n",
    "kode[\"GRUPPEKODE\"]=kode[\"GRUPPEKODE\"].str.replace(\"K.\", '')\n",
    "# kode[\"KODE\"]=[int(w) if str.isdigit(w) else w for w in kode[\"KODE\"] ]\n",
    "dict_kode=dict(zip(kode[\"KODE\"],kode[\"GRUPPEKODE\"]))\n",
    "dict_kode_int=dict(zip(kode[\"KODE\"].astype(float),kode[\"GRUPPEKODE\"]))\n",
    "name=kode[\"GRUPPETEKST\"].str.replace(\" \", \"\",regex=True)\n",
    "name_alfabetical=name.str.replace(\"(\", \",\",regex=True)\n",
    "name_alfabetical=name_alfabetical.str.replace(\")\", \"\",regex=True)\n",
    "\n",
    "dict_kom_name_to_kode=dict(zip(name_alfabetical,kode[\"GRUPPEKODE\"]))\n",
    "print(name)\n",
    "years=[ '2016',\n",
    "'2017', '2018', '2019', '2020']#'2009', '2010', '2011', '2012', '2013', '2014', '2015',\n",
    "years_int=[int(w) for w in years]\n",
    "\n",
    "def import_data_excell_venteliste (filenames,Type=None,Header=0):\n",
    "    years=['2018','2019','2020']\n",
    "    fileExcel= pd.ExcelFile(filenames);\n",
    "    y=0\n",
    "    for sheet in fileExcel.sheet_names[1:-1]:\n",
    "        temp=fileExcel.parse(sheet ,dtype=Type,header=Header)\n",
    "        temp[(\"år\",'')]=years[y]\n",
    "        temp[(\"komnr\",'')]=temp[('Unnamed: 0_level_0')]#.str.replace(\"K-\", '',regex=False).astype(int)\n",
    "        if y==0:\n",
    "            dataSheet=temp\n",
    "        else:\n",
    "            dataSheet=pd.concat([dataSheet,temp],axis=0)\n",
    "  \n",
    "        y=y+1;\n",
    "    del sheet\n",
    "    return dataSheet.reset_index()\n",
    "kode.to_csv(\"Komune list and code\")\n",
    "years=[ '2010', '2011', '2012', '2013', '2014', '2015','2016',\n",
    "'2017', '2018', '2019', '2020','2021']"
   ]
  },
  {
   "cell_type": "code",
   "execution_count": 3,
   "metadata": {},
   "outputs": [],
   "source": [
    "årsverk=import_data_excell (r\"/Users/fabrizio/Desktop/pdf_summary_NRK/Andel årsverk kvinner og menn per kommune.xlsx\",Type=str,Header=0)[0]\n",
    "årsverk=årsverk.query(\"kjonn=='A' and komfor in @kode.GRUPPEKODE\").drop([\"kommune\",\"kjonn\",\"andel\",\"tekst\"],axis=1)#komnr in @not_merged\n",
    "årsverk=årsverk.pivot(index=\"komfor\", columns=\"Tid\", values=\"verk\")\n",
    "årsverk=årsverk.apply(pd.to_numeric, errors='coerce')\n",
    "årsverk.columns=years\n",
    "årsverk.index.name='komnr'\n",
    "årsverk.to_csv(\"årsvekt.csv\")"
   ]
  },
  {
   "cell_type": "code",
   "execution_count": 4,
   "metadata": {},
   "outputs": [
    {
     "name": "stderr",
     "output_type": "stream",
     "text": [
      "/opt/anaconda3/envs/nrk/lib/python3.7/site-packages/pandas/core/frame.py:3641: SettingWithCopyWarning: \n",
      "A value is trying to be set on a copy of a slice from a DataFrame.\n",
      "Try using .loc[row_indexer,col_indexer] = value instead\n",
      "\n",
      "See the caveats in the documentation: https://pandas.pydata.org/pandas-docs/stable/user_guide/indexing.html#returning-a-view-versus-a-copy\n",
      "  self[k1] = value[k2]\n"
     ]
    }
   ],
   "source": [
    "Users=import_data_excell(folder+r\"/SSB/Merged serie/12003 Brukere av hjemmetjenesten.xlsx\",Header=0)[0]\n",
    "Users[['komnr','komname']]=Users[\"region\"].str.split(\" \", n = 1, expand = True) \n",
    "users=Users.query(\" statistikkvariabel=='Brukere (antall)' and komnr in @kode.GRUPPEKODE\")#komnr in @not_merged &'Brukere (antall)'per 1000 innbyggere\n",
    "users[years[-6:-1]]=users[years[-6:-1]].apply(pd.to_numeric, errors='coerce')\n",
    "users_helsetjenste=users.groupby(by=['komnr'], axis=0, level=None, as_index=True, sort=False).sum()\n",
    "# no_users_kom=np.where(users_helsetjenste.sum(axis=1)==0)\n",
    "# to_drop=users_helsetjenste.index[no_users_kom].values\n",
    "# users_helsetjenste=users_helsetjenste.query(\"komnr not in @to_drop\")\n",
    "Users2021=import_data_excell(folder+r\"/SSB/Merged serie/12003 Brukere av hjemmetjenesten - 2021.xlsx\",Header=0)[0]\n",
    "Users2021[['komnr','komname']]=Users2021[\"Region\"].str.split(\" \", n = 1, expand = True) \n",
    "users2021=Users2021#.query(\"komnr in @not_merged\")\n",
    "users2021[\"2021 - Brukere (antall)\"]=users2021[\"2021 - Brukere (antall)\"].apply(pd.to_numeric, errors='coerce')\n",
    "users_helsetjenste2021=users2021.groupby(by=['komnr'], axis=0, level=None, as_index=True, sort=False).sum()\n",
    "users_helsetjenste[\"2021\"]=users_helsetjenste2021[\"2021 - Brukere (antall)\"]#2021 - Brukere (antall)\n",
    "users_helsetjenste.to_csv(\"users.csv\")\n",
    "\n",
    "Årsverk_user_ratio=årsverk.iloc[:,-6:].divide(users_helsetjenste)\n",
    "Årsverk_user_ratio.to_csv(\"Årsvekt_per_user.csv\")\n"
   ]
  },
  {
   "cell_type": "code",
   "execution_count": 5,
   "metadata": {},
   "outputs": [
    {
     "name": "stderr",
     "output_type": "stream",
     "text": [
      "/opt/anaconda3/envs/nrk/lib/python3.7/site-packages/pandas/core/frame.py:3641: SettingWithCopyWarning: \n",
      "A value is trying to be set on a copy of a slice from a DataFrame.\n",
      "Try using .loc[row_indexer,col_indexer] = value instead\n",
      "\n",
      "See the caveats in the documentation: https://pandas.pydata.org/pandas-docs/stable/user_guide/indexing.html#returning-a-view-versus-a-copy\n",
      "  self[k1] = value[k2]\n"
     ]
    }
   ],
   "source": [
    "ages=[\"67-79 år\",\"80 år og over\"] \n",
    "users_67_plus=Users.query(\" statistikkvariabel=='Brukere (antall)' and alder in @ages and komnr in @kode.GRUPPEKODE\")#komnr in @not_merged &'Brukere (antall)'per 1000 innbyggere\n",
    "users_67_plus[years[-6:-1]]=users_67_plus[years[-6:-1]].apply(pd.to_numeric, errors='coerce')\n",
    "users_helsetjenste_67_plus=users_67_plus.groupby(by=['komnr'], axis=0, level=None, as_index=True, sort=False).sum()\n",
    "# no_users_kom=np.where(users_helsetjenste_67_plus.sum(axis=1)==0)\n",
    "# to_drop=users_helsetjenste_67_plus.index[no_users_kom].values\n",
    "# users_helsetjenste_67_plus=users_helsetjenste_67_plus.query(\"komnr not in @to_drop\")\n",
    "\n",
    "users2021_67_plus=Users2021\n",
    "users2021_67_plus[\"2021 - Brukere (antall)\"]=users2021.query(\"Alder in @ages and komnr in @kode.GRUPPEKODE\")[\"2021 - Brukere (antall)\"].apply(pd.to_numeric, errors='coerce')\n",
    "\n",
    "\n",
    "users_helsetjenste2021_67_plus=users2021_67_plus.groupby(by=['komnr'], axis=0, level=None, as_index=True, sort=False).sum()\n",
    "users_helsetjenste_67_plus[\"2021\"]=users_helsetjenste2021_67_plus[\"2021 - Brukere (antall)\"]#2021 - Brukere (antall)\n",
    "users_helsetjenste_67_plus.to_csv(\"users_over_67.csv\")"
   ]
  },
  {
   "cell_type": "code",
   "execution_count": 6,
   "metadata": {},
   "outputs": [
    {
     "name": "stderr",
     "output_type": "stream",
     "text": [
      "/opt/anaconda3/envs/nrk/lib/python3.7/site-packages/ipykernel_launcher.py:1: FutureWarning: In a future version of pandas all arguments of read_csv except for the argument 'filepath_or_buffer' will be keyword-only\n",
      "  \"\"\"Entry point for launching an IPython kernel.\n",
      "/opt/anaconda3/envs/nrk/lib/python3.7/site-packages/pandas/core/frame.py:4913: SettingWithCopyWarning: \n",
      "A value is trying to be set on a copy of a slice from a DataFrame\n",
      "\n",
      "See the caveats in the documentation: https://pandas.pydata.org/pandas-docs/stable/user_guide/indexing.html#returning-a-view-versus-a-copy\n",
      "  errors=errors,\n",
      "/opt/anaconda3/envs/nrk/lib/python3.7/site-packages/ipykernel_launcher.py:16: FutureWarning: In a future version of pandas all arguments of read_csv except for the argument 'filepath_or_buffer' will be keyword-only\n",
      "  app.launch_new_instance()\n"
     ]
    }
   ],
   "source": [
    "plass_list=importDataset(folder+r\"/SSB/Merged serie/13232 Helse- og omsorgsinstitusjoner - plasser - 2020-kommunestruktur, etter statistikkvariabel, region og år.csv\",1)\n",
    "plass_list[['komnr','komname']]=plass_list[\"region\"].str.replace(\"K-\", '',regex=False).str.split(\" \", n = 1, expand = True) \n",
    "\n",
    "plass_list= plass_list.replace({\"komnr\":dict_kode},regex=True)\n",
    "plass_list_public=plass_list.query(\"statistikkvariabel=='Sykehjem - disponible plasser (antall)' and komnr in @kode.GRUPPEKODE\")\n",
    "plass_list_public.drop(['statistikkvariabel', 'region','komname'],axis=1,inplace=True)\n",
    "plass_list_public.set_index(['komnr'], drop=True, append=False, inplace=True, verify_integrity=True)\n",
    "plass_list_public=plass_list_public.apply(pd.to_numeric, errors='coerce')\n",
    "plass_list_public.to_csv(\"plass_list.csv\")\n",
    "# plass_list_tot=plass_list.query(\"statistikkvariabel=='Sykehjem - kommunale plasser (antall)' or statistikkvariabel=='Sykehjem - private disponible plasser (antall)'\")\n",
    "# plass_list_tot=plass_list_tot.apply(pd.to_numeric, errors='coerce').replace({\"komnr\":dict_kode_int},regex=True)\n",
    "# plass_list_tot=plass_list_tot.groupby(by=['komnr'], axis=0, level=None, as_index=True, sort=False).sum()\n",
    "# plass_list_tot.drop(['statistikkvariabel', 'region','komname'],axis=1,inplace=True)\n",
    "# plass_list_tot=plass_list_tot.query(\"komnr in @not_merged \")\n",
    "# print(plass_list_tot[\"2020\"])\n",
    "befolkning_69=importDataset(folder+r\"/SSB/Merged serie/07459 Befolkning, etter statistikkvariabel, region, kjønn, alder og år.csv\",1)\n",
    "befolkning_69[['komnr','komname']]=befolkning_69[\"region\"].str.replace(\"K-\", '',regex=False).str.split(\" \", n = 1, expand = True) \n",
    "befolkning_69=befolkning_69.query(\"alder=='67 år eller eldre' and komnr in @kode.GRUPPEKODE \")\n",
    "befolkning_69.drop(['statistikkvariabel', 'region','komname',\"kjønn\",\"alder\"],axis=1,inplace=True)\n",
    "befolkning_69=befolkning_69.apply(pd.to_numeric, errors='coerce').replace({\"komnr\":dict_kode_int},regex=True).groupby(by=['komnr'], axis=0, level=None, as_index=False, sort=False).sum()#.query(\"komnr in @not_merged \")\n",
    "befolkning_69=befolkning_69.replace({\"komnr\":dict_kode},regex=True)\n",
    "befolkning_69.set_index(['komnr'], drop=True, append=False, inplace=True, verify_integrity=True)\n",
    "befolkning_69.to_csv(\"befolkning_69.csv\")"
   ]
  },
  {
   "cell_type": "code",
   "execution_count": 4,
   "metadata": {},
   "outputs": [],
   "source": [
    "ed_levels=import_data_excell(folder+r\"/SSB/Merged serie/Workers education F234+F254.xlsx\",Header=0)[0]\n",
    "ed_levels[['komnr','komname']]=ed_levels[\"Region\"].str.split(\" \", n = 1, expand = True) \n",
    "ed_levels=ed_levels.query(\"komnr in @kode.GRUPPEKODE and Sektor=='Total'\")#\n",
    "ed_level_set={\"Sykepleier u/ videreutdanning\":\"high\",\n",
    "\"Sykepleier med videreutdanning eksl. jordmor/helsesykepleier\":\"high\", \n",
    "\"Helsefagarbeider, hjelpepleier, omsorgsarbeider\":\"low\",\n",
    "\"Pleiemedhjelper/pleieassistent (mm) m/annen helseutdanning\":\"low\",\n",
    "\"Personell uten helse- og sosialfaglig utdanning\":\"low\"}\n",
    "ed_levels=ed_levels.replace(ed_level_set,regex=True).query(\"Yrkesgruppe == 'high' or Yrkesgruppe == 'low'\").groupby(by=[\"komnr\",\"År\",\"Yrkesgruppe\"], axis=0, level=None, as_index=False, sort=False).sum(min_count=1)\n",
    "ed_levels=ed_levels[['komnr', 'År','Av. årsverk ekskl. lange fravær','Yrkesgruppe']]\n",
    "ed_H=ed_levels.query(\"Yrkesgruppe=='high'\").pivot_table(index=['komnr'],columns='År',values='Av. årsverk ekskl. lange fravær')\n",
    "ed_L=ed_levels.query(\"Yrkesgruppe=='low'\").pivot_table(index=['komnr'],columns='År',values='Av. årsverk ekskl. lange fravær')\n",
    "ed_H.dropna(axis=0,how=\"all\",thresh=3,inplace=True)\n",
    "ed_L.dropna(axis=0,how=\"all\",thresh=3,inplace=True)\n",
    "ed_h_percentage=ed_H.divide(ed_H+ed_L)\n",
    "ed_h_percentage.dropna(axis=0,how=\"all\",inplace=True)\n",
    "ed_ratio=ed_H.divide(ed_L)\n",
    "ed_ratio=ed_ratio.replace(np.inf, np.nan)\n",
    "ed_ratio.dropna(axis=0,how=\"all\",inplace=True)\n",
    "ed_ratio.to_csv(\"education_level.csv\")"
   ]
  },
  {
   "cell_type": "code",
   "execution_count": 5,
   "metadata": {},
   "outputs": [],
   "source": [
    "ed_h_percentage.to_csv(\"education_percentage.csv\")"
   ]
  },
  {
   "cell_type": "code",
   "execution_count": 6,
   "metadata": {},
   "outputs": [],
   "source": [
    "ed_H.to_csv(\"education_High.csv\")\n",
    "ed_ratio.to_csv(\"education_Low.csv\")"
   ]
  },
  {
   "cell_type": "code",
   "execution_count": 9,
   "metadata": {},
   "outputs": [],
   "source": [
    "lonnsutgifter=import_data_excell(folder+\"/SSB/Merged serie/12362 Lønnsutgifter - Hjemmeboende F254 - 2020-2021.xlsx\",Type=str,Header=3)[0]\n",
    "lonnsutgifter[['komnr','komname']]=lonnsutgifter.iloc[:,0].str.replace(\"K-\", '',regex=False).str.split(\" \", n = 1, expand = True) \n",
    "lonnsutgifter=lonnsutgifter.replace({\"komnr\":dict_kode},regex=True)\n",
    "lonn_all=lonnsutgifter.query(\"komnr in @kode.GRUPPEKODE\")\n",
    "lonn_all.set_index(['komnr'], drop=True, append=False, inplace=True, verify_integrity=True)\n",
    "lonn_all=lonn_all[[\"2020\",\"2021\"]].apply(pd.to_numeric, errors='coerce')\n",
    "lonnsutgifter=lonnsutgifter.query(\"komnr in @not_merged\")\n",
    "lonnsutgifter.set_index(['komnr'], drop=True, append=False, inplace=True, verify_integrity=True)\n",
    "lonnsutgifter=lonnsutgifter[[\"2020\",\"2021\"]].apply(pd.to_numeric, errors='coerce')\n",
    "#lonnsutgifter.drop(['region', 'art','komname'],axis=1,inplace=True)\n",
    "lonn_all.to_csv(\"lonn.csv\")"
   ]
  },
  {
   "cell_type": "code",
   "execution_count": 10,
   "metadata": {},
   "outputs": [
    {
     "name": "stdout",
     "output_type": "stream",
     "text": [
      "               komnavn kostragr\n",
      "komnr                          \n",
      "0301              Oslo       13\n",
      "1101         Eigersund        7\n",
      "1103         Stavanger       12\n",
      "1106         Haugesund       10\n",
      "1108           Sandnes       12\n",
      "...                ...      ...\n",
      "5440          Berlevåg       15\n",
      "5441       Deatnu-Tana        6\n",
      "5442   Unjárga-Nesseby       15\n",
      "5443         Båtsfjord        6\n",
      "5444      Sør-Varanger        8\n",
      "\n",
      "[356 rows x 2 columns]\n"
     ]
    }
   ],
   "source": [
    "konstra_group=import_data_excell(folder+\"/KOSTRA-grupper_2020.xlsx\",Type=str,Header=0)[0]\n",
    "#konstra_group=konstra_group.replace({\"komnr\":dict_kode_int},regex=True)\n",
    "konstra_group.set_index(['komnr'], drop=True, append=False, inplace=True, verify_integrity=True)\n",
    "konstra_group.to_csv(\"kostra_group.csv\")\n",
    "print(konstra_group)"
   ]
  },
  {
   "cell_type": "markdown",
   "metadata": {},
   "source": [
    "#check this dataset "
   ]
  },
  {
   "cell_type": "code",
   "execution_count": 1,
   "metadata": {},
   "outputs": [
    {
     "ename": "NameError",
     "evalue": "name 'pd' is not defined",
     "output_type": "error",
     "traceback": [
      "\u001b[0;31m---------------------------------------------------------------------------\u001b[0m",
      "\u001b[0;31mNameError\u001b[0m                                 Traceback (most recent call last)",
      "\u001b[0;32m/var/folders/x5/n03_y7gx4p1570r0ktknsv200000gq/T/ipykernel_15144/914707617.py\u001b[0m in \u001b[0;36m<module>\u001b[0;34m\u001b[0m\n\u001b[0;32m----> 1\u001b[0;31m \u001b[0mtimer_i_uka\u001b[0m\u001b[0;34m=\u001b[0m\u001b[0mpd\u001b[0m\u001b[0;34m.\u001b[0m\u001b[0mread_excel\u001b[0m\u001b[0;34m(\u001b[0m\u001b[0mfolder\u001b[0m\u001b[0;34m+\u001b[0m\u001b[0;34m\"/SSB/Merged serie/12292 Gjennomsnittlig antall tildelte timer i uken - 2020-2021.xlsx\"\u001b[0m\u001b[0;34m,\u001b[0m\u001b[0mdtype\u001b[0m\u001b[0;34m=\u001b[0m\u001b[0mstr\u001b[0m\u001b[0;34m,\u001b[0m\u001b[0mheader\u001b[0m\u001b[0;34m=\u001b[0m\u001b[0;36m2\u001b[0m\u001b[0;34m,\u001b[0m\u001b[0mindex_col\u001b[0m\u001b[0;34m=\u001b[0m\u001b[0;34m[\u001b[0m\u001b[0;36m0\u001b[0m\u001b[0;34m,\u001b[0m\u001b[0;36m1\u001b[0m\u001b[0;34m]\u001b[0m\u001b[0;34m)\u001b[0m\u001b[0;31m#[0]\u001b[0m\u001b[0;34m\u001b[0m\u001b[0;34m\u001b[0m\u001b[0m\n\u001b[0m\u001b[1;32m      2\u001b[0m \u001b[0mtimar_i_uka_67plus\u001b[0m\u001b[0;34m=\u001b[0m\u001b[0mtimer_i_uka\u001b[0m\u001b[0;34m.\u001b[0m\u001b[0mxs\u001b[0m\u001b[0;34m(\u001b[0m\u001b[0;34m'Gjennomsnittlig antall tildelte timer i uken, hjemmetjenestebrukere 67 år og over (antall)'\u001b[0m\u001b[0;34m)\u001b[0m\u001b[0;34m.\u001b[0m\u001b[0mapply\u001b[0m\u001b[0;34m(\u001b[0m\u001b[0mpd\u001b[0m\u001b[0;34m.\u001b[0m\u001b[0mto_numeric\u001b[0m\u001b[0;34m,\u001b[0m \u001b[0merrors\u001b[0m\u001b[0;34m=\u001b[0m\u001b[0;34m'coerce'\u001b[0m\u001b[0;34m)\u001b[0m\u001b[0;34m\u001b[0m\u001b[0;34m\u001b[0m\u001b[0m\n\u001b[1;32m      3\u001b[0m \u001b[0mtimar_i_uka_67plus\u001b[0m\u001b[0;34m[\u001b[0m\u001b[0;34m[\u001b[0m\u001b[0;34m'komnr'\u001b[0m\u001b[0;34m,\u001b[0m\u001b[0;34m'komname'\u001b[0m\u001b[0;34m]\u001b[0m\u001b[0;34m]\u001b[0m\u001b[0;34m=\u001b[0m\u001b[0mtimar_i_uka_67plus\u001b[0m\u001b[0;34m.\u001b[0m\u001b[0mindex\u001b[0m\u001b[0;34m.\u001b[0m\u001b[0mto_series\u001b[0m\u001b[0;34m(\u001b[0m\u001b[0;34m)\u001b[0m\u001b[0;34m.\u001b[0m\u001b[0mstr\u001b[0m\u001b[0;34m.\u001b[0m\u001b[0mreplace\u001b[0m\u001b[0;34m(\u001b[0m\u001b[0;34m\"K-\"\u001b[0m\u001b[0;34m,\u001b[0m \u001b[0;34m''\u001b[0m\u001b[0;34m,\u001b[0m\u001b[0mregex\u001b[0m\u001b[0;34m=\u001b[0m\u001b[0;32mFalse\u001b[0m\u001b[0;34m)\u001b[0m\u001b[0;34m.\u001b[0m\u001b[0mstr\u001b[0m\u001b[0;34m.\u001b[0m\u001b[0msplit\u001b[0m\u001b[0;34m(\u001b[0m\u001b[0;34m\" \"\u001b[0m\u001b[0;34m,\u001b[0m \u001b[0mn\u001b[0m \u001b[0;34m=\u001b[0m \u001b[0;36m1\u001b[0m\u001b[0;34m,\u001b[0m \u001b[0mexpand\u001b[0m \u001b[0;34m=\u001b[0m \u001b[0;32mTrue\u001b[0m\u001b[0;34m)\u001b[0m\u001b[0;34m\u001b[0m\u001b[0;34m\u001b[0m\u001b[0m\n\u001b[1;32m      4\u001b[0m \u001b[0mtimar_i_uka_67plus\u001b[0m\u001b[0;34m=\u001b[0m\u001b[0mtimar_i_uka_67plus\u001b[0m\u001b[0;34m.\u001b[0m\u001b[0mreplace\u001b[0m\u001b[0;34m(\u001b[0m\u001b[0;34m{\u001b[0m\u001b[0;34m\"komnr\"\u001b[0m\u001b[0;34m:\u001b[0m\u001b[0mdict_kode\u001b[0m\u001b[0;34m}\u001b[0m\u001b[0;34m,\u001b[0m\u001b[0mregex\u001b[0m\u001b[0;34m=\u001b[0m\u001b[0;32mTrue\u001b[0m\u001b[0;34m)\u001b[0m\u001b[0;34m.\u001b[0m\u001b[0mgroupby\u001b[0m\u001b[0;34m(\u001b[0m\u001b[0mby\u001b[0m\u001b[0;34m=\u001b[0m\u001b[0;34m\"komnr\"\u001b[0m\u001b[0;34m,\u001b[0m \u001b[0maxis\u001b[0m\u001b[0;34m=\u001b[0m\u001b[0;36m0\u001b[0m\u001b[0;34m,\u001b[0m \u001b[0mlevel\u001b[0m\u001b[0;34m=\u001b[0m\u001b[0;32mNone\u001b[0m\u001b[0;34m,\u001b[0m \u001b[0mas_index\u001b[0m\u001b[0;34m=\u001b[0m\u001b[0;32mTrue\u001b[0m\u001b[0;34m,\u001b[0m \u001b[0msort\u001b[0m\u001b[0;34m=\u001b[0m\u001b[0;32mFalse\u001b[0m\u001b[0;34m)\u001b[0m\u001b[0;34m.\u001b[0m\u001b[0msum\u001b[0m\u001b[0;34m(\u001b[0m\u001b[0;34m)\u001b[0m\u001b[0;34m\u001b[0m\u001b[0;34m\u001b[0m\u001b[0m\n\u001b[1;32m      5\u001b[0m \u001b[0;34m\u001b[0m\u001b[0m\n",
      "\u001b[0;31mNameError\u001b[0m: name 'pd' is not defined"
     ]
    }
   ],
   "source": [
    "timer_i_uka=pd.read_excel(folder+\"/SSB/Merged serie/12292 Gjennomsnittlig antall tildelte timer i uken - 2020-2021.xlsx\",dtype=str,header=2,index_col=[0,1])#[0]\n",
    "timar_i_uka_67plus=timer_i_uka.xs('Gjennomsnittlig antall tildelte timer i uken, hjemmetjenestebrukere 67 år og over (antall)').apply(pd.to_numeric, errors='coerce')\n",
    "timar_i_uka_67plus[['komnr','komname']]=timar_i_uka_67plus.index.to_series().str.replace(\"K-\", '',regex=False).str.split(\" \", n = 1, expand = True)\n",
    "timar_i_uka_67plus=timar_i_uka_67plus.replace({\"komnr\":dict_kode},regex=True).groupby(by=\"komnr\", axis=0, level=None, as_index=True, sort=False).sum()\n",
    "\n",
    "timar_i_uka_total=timer_i_uka.xs('Gjennomsnittlig antall tildelte timer i uken, helsetjenester i hjemmet (antall)').apply(pd.to_numeric, errors='coerce')\n",
    "timar_i_uka_total[['komnr','komname']]=timar_i_uka_total.index.to_series().str.replace(\"K-\", '',regex=False).str.split(\" \", n = 1, expand = True)\n",
    "timar_i_uka_total=timar_i_uka_total.replace({\"komnr\":dict_kode},regex=True).groupby(by=\"komnr\", axis=0, level=None, as_index=True, sort=False).sum()\n",
    "timar_i_uka_total=timar_i_uka_total.query(\"komnr in @kode.GRUPPEKODE and komnr !='Rest'\")\n",
    "timar_i_uka_total.to_csv(\"timar_i_uka.csv\")\n",
    "timar_i_uka_67plus=timar_i_uka_67plus.query(\"komnr in @kode.GRUPPEKODE and komnr !='Rest'\")\n",
    "timar_i_uka_67plus.to_csv(\"timar_i_uka_67plus.csv\")"
   ]
  },
  {
   "cell_type": "code",
   "execution_count": null,
   "metadata": {},
   "outputs": [],
   "source": [
    "vakter=import_data_excell(folder+\"/NSF/Vikarbruk alle kommuner 2012-2020.xlsx\",Type=str,Header=0)[0]\n",
    "vakter[['komnr','komname']]=vakter[\"Kommune\"].str.replace(\"K-\", '',regex=False).str.split(\" \", n = 1, expand = True) \n",
    "vakter=vakter.replace({\"komnr\":dict_kode},regex=True)\n",
    "vakter.drop(['Endring i utgifter  fra 2019-2020',\n",
    "       'Prosentvis endring i utgifter_x000D_\\n',\n",
    "       ' Vikarutgift per innbygger (2020) ', 'Unnamed: 14', 'Unnamed: 15',\n",
    "       'komname', \"Kommune\"],axis=1,inplace=True)\n",
    "vakter.columns=[w.replace(\"Totale utgifter \", '') for w in vakter.columns]\n",
    "vakter=vakter.query(\"komnr in @kode.GRUPPEKODE\")\n",
    "vakter.set_index(['komnr'], drop=True, append=False, inplace=True, verify_integrity=False)\n",
    "vakter_all=vakter.apply(pd.to_numeric, errors='coerce')\n",
    "vakter_all.to_csv(\"vakter.csv\")\n",
    "vakter=vakter_all#.query(\"komnr in @not_merged\") "
   ]
  },
  {
   "cell_type": "code",
   "execution_count": null,
   "metadata": {},
   "outputs": [],
   "source": [
    "pai1=import_data_excell(folder+r\"/PAI/Sykefravær per kommune.xlsx\",Type=str)[0][[\"aar\",\"komnr\",\"Kjonn_tekst\", \"sykeprosent\"]]\n",
    "pai1[\"combo\"]=pai1[\"Kjonn_tekst\"]+pai1[\"aar\"].astype(str)\n",
    "pai1=pai1.replace({\"komnr\":dict_kode},regex=True)\n",
    "#pai1=pai1.replace({\"komnr\":dict_kode_int},regex=True)\n",
    "# pai_syke=pai1.query(\"Kjonn_tekst == 'Begge kjønn'\").query(\"komnr in @kode.GRUPPEKODE\").pivot(index=['komnr'],columns='aar',values='sykeprosent')\n",
    "# pai_syke=pai_syke.apply(pd.to_numeric, errors='coerce')\n",
    "# pai1.set_index(['komnr','aar',\"Kjonn_tekst\"], drop=True, append=False, inplace=True, verify_integrity=True)\n",
    "\n",
    "pai2=import_data_excell(folder+r\"/PAI/Stillingsstørrelse per kommune.xlsx\", Type=str)[0]\n",
    "pai2.Tid=[parser.parse(w).replace(tzinfo=None) for w in pai2.Tid]\n",
    "pai2[\"aar\"]=[w.year for w in pai2.Tid]\n",
    "pai2[\"komname\"]=pai2[\"kommune\"].str.replace(\" kommuner\", '')\n",
    "pai2[\"komname\"]=pai2[\"komname\"].str.replace(\" kommune\", '')\n",
    "pai2=pai2.replace({\"Komnr\":dict_kode_int},regex=True)\n",
    "pai2.drop(['Tid','kommune','komname'],axis=1,inplace=True)\n",
    "pai_stilstor= pai2.pivot(index=['Komnr'],columns='aar',values='stilstor').apply(pd.to_numeric, errors='coerce').query(\"Komnr in @kode.GRUPPEKODE\")\n",
    "pai_stilstor_all= pai2.pivot(index=['Komnr'],columns='aar',values='stilstor').apply(pd.to_numeric, errors='coerce')\n",
    "\n",
    "pai_heltid=pai2.pivot(index=['Komnr'],columns='aar',values='andel_heltidsansatte').query(\"Komnr in @kode.GRUPPEKODE\").apply(pd.to_numeric, errors='coerce')\n",
    "pai_heltid_all=pai2.pivot(index=['Komnr'],columns='aar',values='andel_heltidsansatte').apply(pd.to_numeric, errors='coerce')\n",
    "\n",
    "pai2.set_index(['Komnr','aar'], drop=True, append=False, inplace=True, verify_integrity=True)\n",
    "\n",
    "pai_heltid=pai_heltid.apply(pd.to_numeric, errors='coerce')\n",
    "pai_stilstor=pai_stilstor.apply(pd.to_numeric, errors='coerce')\n",
    "# pai_syke=pai_syke.apply(pd.to_numeric, errors='coerce')\n",
    "pai_heltid.index.name='komnr'\n",
    "pai_stilstor.index.name='komnr'\n",
    "pai_heltid_all.to_csv(\"heltid.csv\")\n",
    "pai_stilstor_all.to_csv(\"stilstor.csv\")"
   ]
  },
  {
   "cell_type": "code",
   "execution_count": null,
   "metadata": {},
   "outputs": [],
   "source": [
    "ncr_report=import_data_excell(folder+r\"/NRK Brennpunkts kartlegging av kommunal omsorg(1-176).xlsx\",Header=0)[0]\n",
    "ncr_all=ncr_report[['Kommunenummer:','Hvor mange tjenesteavvik hadde hjemmetjenesten totalt i 2016?',\n",
    "'Hvor mange tjenesteavvik hadde hjemmetjenesten totalt i 2017?',\n",
    "'Hvor mange tjenesteavvik hadde hjemmetjenesten totalt i 2018?',\n",
    "'Hvor mange tjenesteavvik hadde hjemmetjenesten totalt i 2019?',\n",
    "'Hvor mange tjenesteavvik hadde hjemmetjenesten totalt i 2020?',\n",
    "'Hvor mange tjenesteavvik hadde hjemmetjenesten totalt i 2021?']].apply(pd.to_numeric, errors='coerce')\n",
    "ncr_med=ncr_report[['Kommunenummer:','Hvor mange tjenesteavvik hadde hjemmetjenesten som gjelder medisin-, legemiddel- eller medikamenthåndtering 2016?'\n",
    ",'Hvor mange tjenesteavvik hadde hjemmetjenesten som gjelder medisin-, legemiddel- eller medikamenthåndtering i 2017?',\n",
    "'Hvor mange tjenesteavvik hadde hjemmetjenesten som gjelder medisin-, legemiddel- eller medikamenthåndtering i 2018?',\n",
    "'Hvor mange tjenesteavvik hadde hjemmetjenesten som gjelder medisin-, legemiddel- eller medikamenthåndtering i 2019?',\n",
    "'Hvor mange tjenesteavvik hadde hjemmetjenesten som gjelder medisin-, legemiddel- eller medikamenthåndtering i 2020?',\n",
    "'Hvor mange tjenesteavvik hadde hjemmetjenesten som gjelder medisin-, legemiddel- eller medikamenthåndtering i 2021?']].apply(pd.to_numeric, errors='coerce')\n",
    "\n",
    "name_columns=['komnr','2016','2017','2018','2019','2020','2021']\n",
    "ncr_med.to_csv(\"med_NCR.csv\")\n",
    "ncr_all.to_csv(\"all_ncr.csv\")"
   ]
  },
  {
   "cell_type": "code",
   "execution_count": 52,
   "metadata": {},
   "outputs": [
    {
     "ename": "KeyboardInterrupt",
     "evalue": "",
     "output_type": "error",
     "traceback": [
      "\u001b[0;31m---------------------------------------------------------------------------\u001b[0m",
      "\u001b[0;31mKeyboardInterrupt\u001b[0m                         Traceback (most recent call last)",
      "\u001b[0;32m/var/folders/x5/n03_y7gx4p1570r0ktknsv200000gq/T/ipykernel_52949/2155927049.py\u001b[0m in \u001b[0;36m<module>\u001b[0;34m\u001b[0m\n\u001b[0;32m----> 1\u001b[0;31m \u001b[0mkpr_old\u001b[0m\u001b[0;34m=\u001b[0m\u001b[0mimport_data_excell\u001b[0m\u001b[0;34m(\u001b[0m\u001b[0mfolder\u001b[0m\u001b[0;34m+\u001b[0m\u001b[0;34mr\"/Helsedir/Leveranse 2/21_38387 KPR kommunale tjenestetyper 2017-2020/21_38387 KPR kommunale tjenestetyper 2017-2020.xlsx\"\u001b[0m\u001b[0;34m,\u001b[0m\u001b[0mType\u001b[0m\u001b[0;34m=\u001b[0m\u001b[0mstr\u001b[0m\u001b[0;34m,\u001b[0m\u001b[0mHeader\u001b[0m\u001b[0;34m=\u001b[0m\u001b[0;36m2\u001b[0m\u001b[0;34m)\u001b[0m\u001b[0;34m[\u001b[0m\u001b[0;36m0\u001b[0m\u001b[0;34m]\u001b[0m\u001b[0;34m\u001b[0m\u001b[0;34m\u001b[0m\u001b[0m\n\u001b[0m",
      "\u001b[0;32m/var/folders/x5/n03_y7gx4p1570r0ktknsv200000gq/T/ipykernel_52949/1666024353.py\u001b[0m in \u001b[0;36mimport_data_excell\u001b[0;34m(filenames, Type, Header)\u001b[0m\n\u001b[1;32m     30\u001b[0m     \u001b[0mfileExcel\u001b[0m\u001b[0;34m=\u001b[0m \u001b[0mpd\u001b[0m\u001b[0;34m.\u001b[0m\u001b[0mExcelFile\u001b[0m\u001b[0;34m(\u001b[0m\u001b[0mfilenames\u001b[0m\u001b[0;34m)\u001b[0m\u001b[0;34m;\u001b[0m\u001b[0;34m\u001b[0m\u001b[0;34m\u001b[0m\u001b[0m\n\u001b[1;32m     31\u001b[0m     \u001b[0;32mfor\u001b[0m \u001b[0msheet\u001b[0m \u001b[0;32min\u001b[0m \u001b[0mfileExcel\u001b[0m\u001b[0;34m.\u001b[0m\u001b[0msheet_names\u001b[0m\u001b[0;34m:\u001b[0m\u001b[0;34m\u001b[0m\u001b[0;34m\u001b[0m\u001b[0m\n\u001b[0;32m---> 32\u001b[0;31m         \u001b[0mdataSheet\u001b[0m\u001b[0;34m.\u001b[0m\u001b[0mappend\u001b[0m\u001b[0;34m(\u001b[0m\u001b[0mfileExcel\u001b[0m\u001b[0;34m.\u001b[0m\u001b[0mparse\u001b[0m\u001b[0;34m(\u001b[0m\u001b[0msheet\u001b[0m \u001b[0;34m,\u001b[0m\u001b[0mdtype\u001b[0m\u001b[0;34m=\u001b[0m\u001b[0mType\u001b[0m\u001b[0;34m,\u001b[0m\u001b[0mheader\u001b[0m\u001b[0;34m=\u001b[0m\u001b[0mHeader\u001b[0m\u001b[0;34m)\u001b[0m\u001b[0;34m)\u001b[0m\u001b[0;34m\u001b[0m\u001b[0;34m\u001b[0m\u001b[0m\n\u001b[0m\u001b[1;32m     33\u001b[0m     \u001b[0;32mdel\u001b[0m \u001b[0msheet\u001b[0m\u001b[0;34m\u001b[0m\u001b[0;34m\u001b[0m\u001b[0m\n\u001b[1;32m     34\u001b[0m     \u001b[0;32mreturn\u001b[0m \u001b[0mdataSheet\u001b[0m\u001b[0;34m\u001b[0m\u001b[0;34m\u001b[0m\u001b[0m\n",
      "\u001b[0;32m/opt/anaconda3/envs/nrk/lib/python3.7/site-packages/pandas/io/excel/_base.py\u001b[0m in \u001b[0;36mparse\u001b[0;34m(self, sheet_name, header, names, index_col, usecols, squeeze, converters, true_values, false_values, skiprows, nrows, na_values, parse_dates, date_parser, thousands, comment, skipfooter, convert_float, mangle_dupe_cols, **kwds)\u001b[0m\n\u001b[1;32m   1290\u001b[0m             \u001b[0mconvert_float\u001b[0m\u001b[0;34m=\u001b[0m\u001b[0mconvert_float\u001b[0m\u001b[0;34m,\u001b[0m\u001b[0;34m\u001b[0m\u001b[0;34m\u001b[0m\u001b[0m\n\u001b[1;32m   1291\u001b[0m             \u001b[0mmangle_dupe_cols\u001b[0m\u001b[0;34m=\u001b[0m\u001b[0mmangle_dupe_cols\u001b[0m\u001b[0;34m,\u001b[0m\u001b[0;34m\u001b[0m\u001b[0;34m\u001b[0m\u001b[0m\n\u001b[0;32m-> 1292\u001b[0;31m             \u001b[0;34m**\u001b[0m\u001b[0mkwds\u001b[0m\u001b[0;34m,\u001b[0m\u001b[0;34m\u001b[0m\u001b[0;34m\u001b[0m\u001b[0m\n\u001b[0m\u001b[1;32m   1293\u001b[0m         )\n\u001b[1;32m   1294\u001b[0m \u001b[0;34m\u001b[0m\u001b[0m\n",
      "\u001b[0;32m/opt/anaconda3/envs/nrk/lib/python3.7/site-packages/pandas/io/excel/_base.py\u001b[0m in \u001b[0;36mparse\u001b[0;34m(self, sheet_name, header, names, index_col, usecols, squeeze, dtype, true_values, false_values, skiprows, nrows, na_values, verbose, parse_dates, date_parser, thousands, comment, skipfooter, convert_float, mangle_dupe_cols, **kwds)\u001b[0m\n\u001b[1;32m    537\u001b[0m                 \u001b[0msheet\u001b[0m \u001b[0;34m=\u001b[0m \u001b[0mself\u001b[0m\u001b[0;34m.\u001b[0m\u001b[0mget_sheet_by_index\u001b[0m\u001b[0;34m(\u001b[0m\u001b[0masheetname\u001b[0m\u001b[0;34m)\u001b[0m\u001b[0;34m\u001b[0m\u001b[0;34m\u001b[0m\u001b[0m\n\u001b[1;32m    538\u001b[0m \u001b[0;34m\u001b[0m\u001b[0m\n\u001b[0;32m--> 539\u001b[0;31m             \u001b[0mdata\u001b[0m \u001b[0;34m=\u001b[0m \u001b[0mself\u001b[0m\u001b[0;34m.\u001b[0m\u001b[0mget_sheet_data\u001b[0m\u001b[0;34m(\u001b[0m\u001b[0msheet\u001b[0m\u001b[0;34m,\u001b[0m \u001b[0mconvert_float\u001b[0m\u001b[0;34m)\u001b[0m\u001b[0;34m\u001b[0m\u001b[0;34m\u001b[0m\u001b[0m\n\u001b[0m\u001b[1;32m    540\u001b[0m             \u001b[0;32mif\u001b[0m \u001b[0mhasattr\u001b[0m\u001b[0;34m(\u001b[0m\u001b[0msheet\u001b[0m\u001b[0;34m,\u001b[0m \u001b[0;34m\"close\"\u001b[0m\u001b[0;34m)\u001b[0m\u001b[0;34m:\u001b[0m\u001b[0;34m\u001b[0m\u001b[0;34m\u001b[0m\u001b[0m\n\u001b[1;32m    541\u001b[0m                 \u001b[0;31m# pyxlsb opens two TemporaryFiles\u001b[0m\u001b[0;34m\u001b[0m\u001b[0;34m\u001b[0m\u001b[0;34m\u001b[0m\u001b[0m\n",
      "\u001b[0;32m/opt/anaconda3/envs/nrk/lib/python3.7/site-packages/pandas/io/excel/_openpyxl.py\u001b[0m in \u001b[0;36mget_sheet_data\u001b[0;34m(self, sheet, convert_float)\u001b[0m\n\u001b[1;32m    570\u001b[0m         \u001b[0mdata\u001b[0m\u001b[0;34m:\u001b[0m \u001b[0mlist\u001b[0m\u001b[0;34m[\u001b[0m\u001b[0mlist\u001b[0m\u001b[0;34m[\u001b[0m\u001b[0mScalar\u001b[0m\u001b[0;34m]\u001b[0m\u001b[0;34m]\u001b[0m \u001b[0;34m=\u001b[0m \u001b[0;34m[\u001b[0m\u001b[0;34m]\u001b[0m\u001b[0;34m\u001b[0m\u001b[0;34m\u001b[0m\u001b[0m\n\u001b[1;32m    571\u001b[0m         \u001b[0mlast_row_with_data\u001b[0m \u001b[0;34m=\u001b[0m \u001b[0;34m-\u001b[0m\u001b[0;36m1\u001b[0m\u001b[0;34m\u001b[0m\u001b[0;34m\u001b[0m\u001b[0m\n\u001b[0;32m--> 572\u001b[0;31m         \u001b[0;32mfor\u001b[0m \u001b[0mrow_number\u001b[0m\u001b[0;34m,\u001b[0m \u001b[0mrow\u001b[0m \u001b[0;32min\u001b[0m \u001b[0menumerate\u001b[0m\u001b[0;34m(\u001b[0m\u001b[0msheet\u001b[0m\u001b[0;34m.\u001b[0m\u001b[0mrows\u001b[0m\u001b[0;34m)\u001b[0m\u001b[0;34m:\u001b[0m\u001b[0;34m\u001b[0m\u001b[0;34m\u001b[0m\u001b[0m\n\u001b[0m\u001b[1;32m    573\u001b[0m             \u001b[0mconverted_row\u001b[0m \u001b[0;34m=\u001b[0m \u001b[0;34m[\u001b[0m\u001b[0mself\u001b[0m\u001b[0;34m.\u001b[0m\u001b[0m_convert_cell\u001b[0m\u001b[0;34m(\u001b[0m\u001b[0mcell\u001b[0m\u001b[0;34m,\u001b[0m \u001b[0mconvert_float\u001b[0m\u001b[0;34m)\u001b[0m \u001b[0;32mfor\u001b[0m \u001b[0mcell\u001b[0m \u001b[0;32min\u001b[0m \u001b[0mrow\u001b[0m\u001b[0;34m]\u001b[0m\u001b[0;34m\u001b[0m\u001b[0;34m\u001b[0m\u001b[0m\n\u001b[1;32m    574\u001b[0m             \u001b[0;32mwhile\u001b[0m \u001b[0mconverted_row\u001b[0m \u001b[0;32mand\u001b[0m \u001b[0mconverted_row\u001b[0m\u001b[0;34m[\u001b[0m\u001b[0;34m-\u001b[0m\u001b[0;36m1\u001b[0m\u001b[0;34m]\u001b[0m \u001b[0;34m==\u001b[0m \u001b[0;34m\"\"\u001b[0m\u001b[0;34m:\u001b[0m\u001b[0;34m\u001b[0m\u001b[0;34m\u001b[0m\u001b[0m\n",
      "\u001b[0;32m/opt/anaconda3/envs/nrk/lib/python3.7/site-packages/openpyxl/worksheet/_read_only.py\u001b[0m in \u001b[0;36m_cells_by_row\u001b[0;34m(self, min_col, min_row, max_col, max_row, values_only)\u001b[0m\n\u001b[1;32m     77\u001b[0m                                  \u001b[0mdata_only\u001b[0m\u001b[0;34m=\u001b[0m\u001b[0mself\u001b[0m\u001b[0;34m.\u001b[0m\u001b[0mparent\u001b[0m\u001b[0;34m.\u001b[0m\u001b[0mdata_only\u001b[0m\u001b[0;34m,\u001b[0m \u001b[0mepoch\u001b[0m\u001b[0;34m=\u001b[0m\u001b[0mself\u001b[0m\u001b[0;34m.\u001b[0m\u001b[0mparent\u001b[0m\u001b[0;34m.\u001b[0m\u001b[0mepoch\u001b[0m\u001b[0;34m,\u001b[0m\u001b[0;34m\u001b[0m\u001b[0;34m\u001b[0m\u001b[0m\n\u001b[1;32m     78\u001b[0m                                  date_formats=self.parent._date_formats)\n\u001b[0;32m---> 79\u001b[0;31m         \u001b[0;32mfor\u001b[0m \u001b[0midx\u001b[0m\u001b[0;34m,\u001b[0m \u001b[0mrow\u001b[0m \u001b[0;32min\u001b[0m \u001b[0mparser\u001b[0m\u001b[0;34m.\u001b[0m\u001b[0mparse\u001b[0m\u001b[0;34m(\u001b[0m\u001b[0;34m)\u001b[0m\u001b[0;34m:\u001b[0m\u001b[0;34m\u001b[0m\u001b[0;34m\u001b[0m\u001b[0m\n\u001b[0m\u001b[1;32m     80\u001b[0m             \u001b[0;32mif\u001b[0m \u001b[0mmax_row\u001b[0m \u001b[0;32mis\u001b[0m \u001b[0;32mnot\u001b[0m \u001b[0;32mNone\u001b[0m \u001b[0;32mand\u001b[0m \u001b[0midx\u001b[0m \u001b[0;34m>\u001b[0m \u001b[0mmax_row\u001b[0m\u001b[0;34m:\u001b[0m\u001b[0;34m\u001b[0m\u001b[0;34m\u001b[0m\u001b[0m\n\u001b[1;32m     81\u001b[0m                 \u001b[0;32mbreak\u001b[0m\u001b[0;34m\u001b[0m\u001b[0;34m\u001b[0m\u001b[0m\n",
      "\u001b[0;32m/opt/anaconda3/envs/nrk/lib/python3.7/site-packages/openpyxl/worksheet/_reader.py\u001b[0m in \u001b[0;36mparse\u001b[0;34m(self)\u001b[0m\n\u001b[1;32m    142\u001b[0m         \u001b[0mit\u001b[0m \u001b[0;34m=\u001b[0m \u001b[0miterparse\u001b[0m\u001b[0;34m(\u001b[0m\u001b[0mself\u001b[0m\u001b[0;34m.\u001b[0m\u001b[0msource\u001b[0m\u001b[0;34m)\u001b[0m \u001b[0;31m# add a finaliser to close the source when this becomes possible\u001b[0m\u001b[0;34m\u001b[0m\u001b[0;34m\u001b[0m\u001b[0m\n\u001b[1;32m    143\u001b[0m \u001b[0;34m\u001b[0m\u001b[0m\n\u001b[0;32m--> 144\u001b[0;31m         \u001b[0;32mfor\u001b[0m \u001b[0m_\u001b[0m\u001b[0;34m,\u001b[0m \u001b[0melement\u001b[0m \u001b[0;32min\u001b[0m \u001b[0mit\u001b[0m\u001b[0;34m:\u001b[0m\u001b[0;34m\u001b[0m\u001b[0;34m\u001b[0m\u001b[0m\n\u001b[0m\u001b[1;32m    145\u001b[0m             \u001b[0mtag_name\u001b[0m \u001b[0;34m=\u001b[0m \u001b[0melement\u001b[0m\u001b[0;34m.\u001b[0m\u001b[0mtag\u001b[0m\u001b[0;34m\u001b[0m\u001b[0;34m\u001b[0m\u001b[0m\n\u001b[1;32m    146\u001b[0m             \u001b[0;32mif\u001b[0m \u001b[0mtag_name\u001b[0m \u001b[0;32min\u001b[0m \u001b[0mdispatcher\u001b[0m\u001b[0;34m:\u001b[0m\u001b[0;34m\u001b[0m\u001b[0;34m\u001b[0m\u001b[0m\n",
      "\u001b[0;32m/opt/anaconda3/envs/nrk/lib/python3.7/xml/etree/ElementTree.py\u001b[0m in \u001b[0;36miterator\u001b[0;34m()\u001b[0m\n\u001b[1;32m   1225\u001b[0m                 \u001b[0;32mif\u001b[0m \u001b[0;32mnot\u001b[0m \u001b[0mdata\u001b[0m\u001b[0;34m:\u001b[0m\u001b[0;34m\u001b[0m\u001b[0;34m\u001b[0m\u001b[0m\n\u001b[1;32m   1226\u001b[0m                     \u001b[0;32mbreak\u001b[0m\u001b[0;34m\u001b[0m\u001b[0;34m\u001b[0m\u001b[0m\n\u001b[0;32m-> 1227\u001b[0;31m                 \u001b[0mpullparser\u001b[0m\u001b[0;34m.\u001b[0m\u001b[0mfeed\u001b[0m\u001b[0;34m(\u001b[0m\u001b[0mdata\u001b[0m\u001b[0;34m)\u001b[0m\u001b[0;34m\u001b[0m\u001b[0;34m\u001b[0m\u001b[0m\n\u001b[0m\u001b[1;32m   1228\u001b[0m             \u001b[0mroot\u001b[0m \u001b[0;34m=\u001b[0m \u001b[0mpullparser\u001b[0m\u001b[0;34m.\u001b[0m\u001b[0m_close_and_return_root\u001b[0m\u001b[0;34m(\u001b[0m\u001b[0;34m)\u001b[0m\u001b[0;34m\u001b[0m\u001b[0;34m\u001b[0m\u001b[0m\n\u001b[1;32m   1229\u001b[0m             \u001b[0;32myield\u001b[0m \u001b[0;32mfrom\u001b[0m \u001b[0mpullparser\u001b[0m\u001b[0;34m.\u001b[0m\u001b[0mread_events\u001b[0m\u001b[0;34m(\u001b[0m\u001b[0;34m)\u001b[0m\u001b[0;34m\u001b[0m\u001b[0;34m\u001b[0m\u001b[0m\n",
      "\u001b[0;32m/opt/anaconda3/envs/nrk/lib/python3.7/xml/etree/ElementTree.py\u001b[0m in \u001b[0;36mfeed\u001b[0;34m(self, data)\u001b[0m\n\u001b[1;32m   1267\u001b[0m         \u001b[0;32mif\u001b[0m \u001b[0mdata\u001b[0m\u001b[0;34m:\u001b[0m\u001b[0;34m\u001b[0m\u001b[0;34m\u001b[0m\u001b[0m\n\u001b[1;32m   1268\u001b[0m             \u001b[0;32mtry\u001b[0m\u001b[0;34m:\u001b[0m\u001b[0;34m\u001b[0m\u001b[0;34m\u001b[0m\u001b[0m\n\u001b[0;32m-> 1269\u001b[0;31m                 \u001b[0mself\u001b[0m\u001b[0;34m.\u001b[0m\u001b[0m_parser\u001b[0m\u001b[0;34m.\u001b[0m\u001b[0mfeed\u001b[0m\u001b[0;34m(\u001b[0m\u001b[0mdata\u001b[0m\u001b[0;34m)\u001b[0m\u001b[0;34m\u001b[0m\u001b[0;34m\u001b[0m\u001b[0m\n\u001b[0m\u001b[1;32m   1270\u001b[0m             \u001b[0;32mexcept\u001b[0m \u001b[0mSyntaxError\u001b[0m \u001b[0;32mas\u001b[0m \u001b[0mexc\u001b[0m\u001b[0;34m:\u001b[0m\u001b[0;34m\u001b[0m\u001b[0;34m\u001b[0m\u001b[0m\n\u001b[1;32m   1271\u001b[0m                 \u001b[0mself\u001b[0m\u001b[0;34m.\u001b[0m\u001b[0m_events_queue\u001b[0m\u001b[0;34m.\u001b[0m\u001b[0mappend\u001b[0m\u001b[0;34m(\u001b[0m\u001b[0mexc\u001b[0m\u001b[0;34m)\u001b[0m\u001b[0;34m\u001b[0m\u001b[0;34m\u001b[0m\u001b[0m\n",
      "\u001b[0;32m/opt/anaconda3/envs/nrk/lib/python3.7/xml/etree/ElementTree.py\u001b[0m in \u001b[0;36mfeed\u001b[0;34m(self, data)\u001b[0m\n\u001b[1;32m   1628\u001b[0m         \u001b[0;34m\"\"\"Feed encoded data to parser.\"\"\"\u001b[0m\u001b[0;34m\u001b[0m\u001b[0;34m\u001b[0m\u001b[0m\n\u001b[1;32m   1629\u001b[0m         \u001b[0;32mtry\u001b[0m\u001b[0;34m:\u001b[0m\u001b[0;34m\u001b[0m\u001b[0;34m\u001b[0m\u001b[0m\n\u001b[0;32m-> 1630\u001b[0;31m             \u001b[0mself\u001b[0m\u001b[0;34m.\u001b[0m\u001b[0mparser\u001b[0m\u001b[0;34m.\u001b[0m\u001b[0mParse\u001b[0m\u001b[0;34m(\u001b[0m\u001b[0mdata\u001b[0m\u001b[0;34m,\u001b[0m \u001b[0;36m0\u001b[0m\u001b[0;34m)\u001b[0m\u001b[0;34m\u001b[0m\u001b[0;34m\u001b[0m\u001b[0m\n\u001b[0m\u001b[1;32m   1631\u001b[0m         \u001b[0;32mexcept\u001b[0m \u001b[0mself\u001b[0m\u001b[0;34m.\u001b[0m\u001b[0m_error\u001b[0m \u001b[0;32mas\u001b[0m \u001b[0mv\u001b[0m\u001b[0;34m:\u001b[0m\u001b[0;34m\u001b[0m\u001b[0;34m\u001b[0m\u001b[0m\n\u001b[1;32m   1632\u001b[0m             \u001b[0mself\u001b[0m\u001b[0;34m.\u001b[0m\u001b[0m_raiseerror\u001b[0m\u001b[0;34m(\u001b[0m\u001b[0mv\u001b[0m\u001b[0;34m)\u001b[0m\u001b[0;34m\u001b[0m\u001b[0;34m\u001b[0m\u001b[0m\n",
      "\u001b[0;32m/opt/concourse/worker/volumes/live/ac7328b7-979b-4dc7-77d7-0666d3f22ea4/volume/python_1627393683951/work/Modules/pyexpat.c\u001b[0m in \u001b[0;36mStartElement\u001b[0;34m()\u001b[0m\n",
      "\u001b[0;32m/opt/anaconda3/envs/nrk/lib/python3.7/xml/etree/ElementTree.py\u001b[0m in \u001b[0;36m_start\u001b[0;34m(self, tag, attr_list)\u001b[0m\n\u001b[1;32m   1552\u001b[0m             \u001b[0;32mfor\u001b[0m \u001b[0mi\u001b[0m \u001b[0;32min\u001b[0m \u001b[0mrange\u001b[0m\u001b[0;34m(\u001b[0m\u001b[0;36m0\u001b[0m\u001b[0;34m,\u001b[0m \u001b[0mlen\u001b[0m\u001b[0;34m(\u001b[0m\u001b[0mattr_list\u001b[0m\u001b[0;34m)\u001b[0m\u001b[0;34m,\u001b[0m \u001b[0;36m2\u001b[0m\u001b[0;34m)\u001b[0m\u001b[0;34m:\u001b[0m\u001b[0;34m\u001b[0m\u001b[0;34m\u001b[0m\u001b[0m\n\u001b[1;32m   1553\u001b[0m                 \u001b[0mattrib\u001b[0m\u001b[0;34m[\u001b[0m\u001b[0mfixname\u001b[0m\u001b[0;34m(\u001b[0m\u001b[0mattr_list\u001b[0m\u001b[0;34m[\u001b[0m\u001b[0mi\u001b[0m\u001b[0;34m]\u001b[0m\u001b[0;34m)\u001b[0m\u001b[0;34m]\u001b[0m \u001b[0;34m=\u001b[0m \u001b[0mattr_list\u001b[0m\u001b[0;34m[\u001b[0m\u001b[0mi\u001b[0m\u001b[0;34m+\u001b[0m\u001b[0;36m1\u001b[0m\u001b[0;34m]\u001b[0m\u001b[0;34m\u001b[0m\u001b[0;34m\u001b[0m\u001b[0m\n\u001b[0;32m-> 1554\u001b[0;31m         \u001b[0;32mreturn\u001b[0m \u001b[0mself\u001b[0m\u001b[0;34m.\u001b[0m\u001b[0mtarget\u001b[0m\u001b[0;34m.\u001b[0m\u001b[0mstart\u001b[0m\u001b[0;34m(\u001b[0m\u001b[0mtag\u001b[0m\u001b[0;34m,\u001b[0m \u001b[0mattrib\u001b[0m\u001b[0;34m)\u001b[0m\u001b[0;34m\u001b[0m\u001b[0;34m\u001b[0m\u001b[0m\n\u001b[0m\u001b[1;32m   1555\u001b[0m \u001b[0;34m\u001b[0m\u001b[0m\n\u001b[1;32m   1556\u001b[0m     \u001b[0;32mdef\u001b[0m \u001b[0m_end\u001b[0m\u001b[0;34m(\u001b[0m\u001b[0mself\u001b[0m\u001b[0;34m,\u001b[0m \u001b[0mtag\u001b[0m\u001b[0;34m)\u001b[0m\u001b[0;34m:\u001b[0m\u001b[0;34m\u001b[0m\u001b[0;34m\u001b[0m\u001b[0m\n",
      "\u001b[0;31mKeyboardInterrupt\u001b[0m: "
     ]
    }
   ],
   "source": [
    "kpr_old=import_data_excell(folder+r\"/Helsedir/Leveranse 2/21_38387 KPR kommunale tjenestetyper 2017-2020/21_38387 KPR kommunale tjenestetyper 2017-2020.xlsx\",Type=str,Header=2)[0]\n"
   ]
  },
  {
   "cell_type": "code",
   "execution_count": null,
   "metadata": {},
   "outputs": [],
   "source": [
    "kpr[\"Funksjon\"]=kpr[\"Funksjon\"].str.replace(\"FUNKNIVAA\", '',regex=False)\n",
    "kpr_pivot=kpr.pivot(index='Funksjon', columns='aar', values='MEAN').apply(pd.to_numeric, errors='coerce')#'K75PROS'\n",
    "selection=[\"1\",\"3\",\"4\",\"5\",\"7\",\"8\",\"10\",\"11\",\"14\",\"15\",\"17\",\"16\",\"13\"]\n",
    "kpr_pivot=kpr_pivot.loc[selection]\n",
    "kpr_pivot.csv(\"KPR_data.csv\")"
   ]
  },
  {
   "cell_type": "code",
   "execution_count": 42,
   "metadata": {},
   "outputs": [],
   "source": [
    "\n"
   ]
  },
  {
   "cell_type": "code",
   "execution_count": 47,
   "metadata": {},
   "outputs": [],
   "source": [
    "kpr['antall brukere']=kpr['antall brukere'].astype(float)\n",
    "kpr['Gjennomsnittlig funksjonsverdi']=kpr['Gjennomsnittlig funksjonsverdi'].astype(float) \n",
    "KPR_stats=kpr.groupby(['kommunenummer',\"aldersgruppe\",\"tjenestetype - tekst\", \"aar\",\"funksjonstype - tekst\"]).apply(lambda x: np.average(x[\"Gjennomsnittlig funksjonsverdi\"], weights=x['antall brukere'])).reset_index()\n",
    "KPR_stats_all_ages=kpr.groupby(['kommunenummer',\"tjenestetype - tekst\", \"aar\",\"funksjonstype - tekst\"]).apply(lambda x: np.average(x[\"Gjennomsnittlig funksjonsverdi\"], weights=x['antall brukere'])).reset_index()\n"
   ]
  },
  {
   "cell_type": "code",
   "execution_count": 51,
   "metadata": {},
   "outputs": [],
   "source": [
    "KPR_stats.rename(columns={0:'mean_value'}, inplace=True)\n",
    "KPR_stats_all_ages.rename(columns={0:'mean_value'}, inplace=True)\n",
    "KPR_stats.to_csv(\"kpr_age_devided.csv\")\n",
    "KPR_stats_all_ages.to_csv(\"kpr.csv\")\n"
   ]
  },
  {
   "cell_type": "code",
   "execution_count": 10,
   "metadata": {},
   "outputs": [],
   "source": [
    "Users_by_sickness=import_data_excell(folder+r\"/SSB/Merged serie/12292 Hjemmeboende brukere - bistandsbehov 2015-2021.xlsx\",Header=2,col_index=[0,1])[0].apply(pd.to_numeric, errors='coerce').reset_index()\n",
    "\n",
    "Users_by_sickness[['komnr','komname']]=Users_by_sickness[\"level_1\"].str.split(\" \", n = 1, expand = True) \n",
    "Users_by_sickness.drop([\"level_1\", \"komname\"],inplace=True, axis=1)\n",
    "Users_by_sickness.columns=Users_by_sickness.columns.astype(str)\n",
    "Users_by_sickness=Users_by_sickness.replace({\"komnr\":dict_kode},regex=True)\n",
    "users_by_sickness=Users_by_sickness.groupby(by=['komnr',\"level_0\"],axis=0,as_index=False).sum(min_count=1)\n",
    "users_by_sickness.rename(columns={'level_0':'variable'}, inplace=True)\n",
    "users_by_sickness=users_by_sickness.query(\"komnr in @kode.GRUPPEKODE\")\n",
    "users_by_sickness.drop(\"Rest\",inplace=True)\n",
    "users_by_sickness.to_csv(\"users_by_sickness.csv\")"
   ]
  },
  {
   "cell_type": "code",
   "execution_count": 13,
   "metadata": {},
   "outputs": [],
   "source": [
    "users_very_sick=users_by_sickness[users_by_sickness.variable.str.contains(\"i alt\")]\n",
    "users_very_sick.set_index(['komnr'], drop=True, append=False, inplace=True, verify_integrity=True)\n",
    "total_users=users_by_sickness[~users_by_sickness.variable.str.contains(\"i alt\")]\n",
    "total_users2=total_users.groupby(by='komnr',axis=0,as_index=True).sum(min_count=1)\n",
    "users_very_sick=users_very_sick.divide(total_users2).drop(\"variable\", axis=1)\n",
    "users_very_sick.drop(\"Rest\",inplace=True)\n",
    "users_very_sick.to_csv(\"users_very_sick.csv\")"
   ]
  }
 ],
 "metadata": {
  "interpreter": {
   "hash": "4524cb9367314c2a387b9095d021207634de444b9f41998a5d5e82e0fcd7e28c"
  },
  "kernelspec": {
   "display_name": "Python 3.7.11 ('nrk')",
   "language": "python",
   "name": "python3"
  },
  "language_info": {
   "codemirror_mode": {
    "name": "ipython",
    "version": 3
   },
   "file_extension": ".py",
   "mimetype": "text/x-python",
   "name": "python",
   "nbconvert_exporter": "python",
   "pygments_lexer": "ipython3",
   "version": "3.7.11"
  },
  "orig_nbformat": 4
 },
 "nbformat": 4,
 "nbformat_minor": 2
}
